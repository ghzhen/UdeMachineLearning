{
 "cells": [
  {
   "cell_type": "code",
   "execution_count": 60,
   "metadata": {
    "collapsed": false
   },
   "outputs": [],
   "source": [
    "import pandas as pd\n",
    "import numpy as np\n",
    "import matplotlib.pyplot as plt"
   ]
  },
  {
   "cell_type": "code",
   "execution_count": 61,
   "metadata": {
    "collapsed": true
   },
   "outputs": [],
   "source": [
    "data = pd.read_csv('Data.csv')"
   ]
  },
  {
   "cell_type": "code",
   "execution_count": 70,
   "metadata": {
    "collapsed": false
   },
   "outputs": [],
   "source": [
    "X = data.iloc[:,:-1].values\n",
    "y = data.iloc[:,-1].values"
   ]
  },
  {
   "cell_type": "markdown",
   "metadata": {},
   "source": [
    "### Missing Data"
   ]
  },
  {
   "cell_type": "code",
   "execution_count": 63,
   "metadata": {
    "collapsed": true
   },
   "outputs": [],
   "source": [
    "from sklearn.preprocessing import Imputer "
   ]
  },
  {
   "cell_type": "code",
   "execution_count": 64,
   "metadata": {
    "collapsed": true
   },
   "outputs": [],
   "source": [
    "imputer = Imputer(missing_values = 'NaN', strategy = 'mean', axis = 0)"
   ]
  },
  {
   "cell_type": "code",
   "execution_count": 71,
   "metadata": {
    "collapsed": true
   },
   "outputs": [],
   "source": [
    "imputer = imputer.fit(X[:,1:])\n",
    "X[:,1:] = imputer.transform(X[:,1:])"
   ]
  },
  {
   "cell_type": "markdown",
   "metadata": {},
   "source": [
    "### Categorical Data"
   ]
  },
  {
   "cell_type": "markdown",
   "metadata": {},
   "source": [
    "##### sklearn way  -- smarter"
   ]
  },
  {
   "cell_type": "code",
   "execution_count": 73,
   "metadata": {
    "collapsed": false
   },
   "outputs": [],
   "source": [
    "from sklearn.preprocessing import LabelEncoder, OneHotEncoder\n",
    "labelencoderX = LabelEncoder()\n",
    "X[:,0] = labelencoderX.fit_transform(X[:,0])\n",
    "onehotencoder = OneHotEncoder(categorical_features = [0])\n",
    "X = onehotencoder.fit_transform(X).toarray()\n",
    "labelencodery = LabelEncoder()\n",
    "y = labelencodery.fit_transform(y)"
   ]
  },
  {
   "cell_type": "markdown",
   "metadata": {},
   "source": [
    "##### pandas way"
   ]
  },
  {
   "cell_type": "code",
   "execution_count": 56,
   "metadata": {
    "collapsed": false
   },
   "outputs": [],
   "source": [
    "# bi = {'Yes':1, 'No': 0}\n",
    "# data['Purchased'].replace(bi, inplace=True)"
   ]
  },
  {
   "cell_type": "code",
   "execution_count": 76,
   "metadata": {
    "collapsed": false
   },
   "outputs": [
    {
     "data": {
      "text/plain": [
       "array([[  1.22474487e+00,  -6.54653671e-01,  -6.54653671e-01,\n",
       "          7.58874362e-01,   7.49473254e-01],\n",
       "       [ -8.16496581e-01,  -6.54653671e-01,   1.52752523e+00,\n",
       "         -1.71150388e+00,  -1.43817841e+00],\n",
       "       [ -8.16496581e-01,   1.52752523e+00,  -6.54653671e-01,\n",
       "         -1.27555478e+00,  -8.91265492e-01],\n",
       "       [ -8.16496581e-01,  -6.54653671e-01,   1.52752523e+00,\n",
       "         -1.13023841e-01,  -2.53200424e-01],\n",
       "       [ -8.16496581e-01,   1.52752523e+00,  -6.54653671e-01,\n",
       "          1.77608893e-01,   6.63219199e-16],\n",
       "       [  1.22474487e+00,  -6.54653671e-01,  -6.54653671e-01,\n",
       "         -5.48972942e-01,  -5.26656882e-01],\n",
       "       [ -8.16496581e-01,  -6.54653671e-01,   1.52752523e+00,\n",
       "          0.00000000e+00,  -1.07356980e+00],\n",
       "       [  1.22474487e+00,  -6.54653671e-01,  -6.54653671e-01,\n",
       "          1.34013983e+00,   1.38753832e+00],\n",
       "       [ -8.16496581e-01,   1.52752523e+00,  -6.54653671e-01,\n",
       "          1.63077256e+00,   1.75214693e+00],\n",
       "       [  1.22474487e+00,  -6.54653671e-01,  -6.54653671e-01,\n",
       "         -2.58340208e-01,   2.93712492e-01]])"
      ]
     },
     "execution_count": 76,
     "metadata": {},
     "output_type": "execute_result"
    }
   ],
   "source": [
    "X"
   ]
  },
  {
   "cell_type": "markdown",
   "metadata": {},
   "source": [
    "### Feature Scaling (not always need to be done manually)"
   ]
  },
  {
   "cell_type": "code",
   "execution_count": 75,
   "metadata": {
    "collapsed": true
   },
   "outputs": [],
   "source": [
    "from sklearn.preprocessing import StandardScaler\n",
    "sc_X = StandardScaler()\n",
    "X = sc_X.fit_transform(X)"
   ]
  },
  {
   "cell_type": "markdown",
   "metadata": {},
   "source": [
    "### Splitting Data into Training and Testing"
   ]
  },
  {
   "cell_type": "code",
   "execution_count": 77,
   "metadata": {
    "collapsed": true
   },
   "outputs": [],
   "source": [
    "from sklearn.model_selection import train_test_split\n",
    "X_train, X_test, y_train, y_test = train_test_split(X, y, test_size = 0.2, random_state = 0)"
   ]
  }
 ],
 "metadata": {
  "kernelspec": {
   "display_name": "Python 2",
   "language": "python",
   "name": "python2"
  },
  "language_info": {
   "codemirror_mode": {
    "name": "ipython",
    "version": 2
   },
   "file_extension": ".py",
   "mimetype": "text/x-python",
   "name": "python",
   "nbconvert_exporter": "python",
   "pygments_lexer": "ipython2",
   "version": "2.7.11"
  }
 },
 "nbformat": 4,
 "nbformat_minor": 0
}
